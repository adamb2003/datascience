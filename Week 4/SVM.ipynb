{
 "cells": [
  {
   "cell_type": "markdown",
   "metadata": {
    "id": "5iFagXc4cBhu"
   },
   "source": [
    "#### Prerequisites\n",
    "\n",
    "- Basic familiarity with [Numpy](https://numpy.org/doc/stable/user/quickstart.html)\n",
    "- Basic familiarity with [Pyplot](https://matplotlib.org/stable/tutorials/introductory/pyplot.html)\n",
    "- Basic familiarity with [Pandas](https://pandas.pydata.org/pandas-docs/stable/user_guide/10min.html)\n",
    "\n",
    "\n",
    "## Outline\n",
    "\n",
    "- [Section 1](#section-1): Dataset Preparation\n",
    "- [Section 2](#section-2): Linear SVM Formulation\n",
    "- [Section 3](#section-3): SVM Optimization using SGD\n",
    "- [Section 4](#section-4): Model Evaluation via *T*-fold Cross Validation\n"
   ]
  },
  {
   "cell_type": "markdown",
   "metadata": {
    "id": "Arz0uQUpJ8nx"
   },
   "source": [
    "# Support Vector Machines (SVMs)\n",
    "In this notebook, we will learn a linear and kernalised method of SVMs, which can be used for both regression and classification. To start with, we will focus on binary classification. We will use stochastic gradient descent (SGD) for the optimisation of the hinge loss.\n",
    "\n",
    "We will work with the [Breast Cancer Wisconsin (Diagnostic) Data Set](https://www.kaggle.com/uciml/breast-cancer-wisconsin-data), which you first need to download and then load in this notebook. If you faced difficulties downloading this data set from Kaggle, you should download the file directly from Blackboard. The data set contains various aspects of cell nuclei of breast screening images of patients with _(malignant)_ and without _(benign)_ breast cancer. Our goal is to build a classification model that can take these aspects of an unseen breast screening image, and classify it as either malignant or benign.\n",
    "\n",
    "<a name=\"section-1\"></a>\n",
    "\n",
    "## Section 1: Data Preparation\n",
    "\n",
    "If you run this notebook locally on your machine, you will simply need to place the `csv` file in the same directory as this notebook.\n",
    "If you run this notebook on Google Colab, you will need to use\n",
    "\n",
    "  `from google.colab import files`\n",
    "\n",
    "  `upload = files.upload()`\n",
    "\n",
    "and then upload it from your local downloads directory."
   ]
  },
  {
   "cell_type": "code",
   "execution_count": 1,
   "metadata": {
    "id": "oeRdgi8X2_kD"
   },
   "outputs": [],
   "source": [
    "# necessary imports\n",
    "import numpy as np\n",
    "import pandas as pd\n",
    "import matplotlib.pyplot as plt"
   ]
  },
  {
   "cell_type": "code",
   "execution_count": 2,
   "metadata": {
    "colab": {
     "base_uri": "https://localhost:8080/",
     "height": 447
    },
    "executionInfo": {
     "elapsed": 462,
     "status": "ok",
     "timestamp": 1706207034016,
     "user": {
      "displayName": "Li Zekai",
      "userId": "05086914790210896465"
     },
     "user_tz": 0
    },
    "id": "-9FsQfQ1J4MI",
    "outputId": "5bf700cc-4abe-4214-d5f8-29fffbca832d"
   },
   "outputs": [
    {
     "name": "stdout",
     "output_type": "stream",
     "text": [
      "(569, 33)\n"
     ]
    },
    {
     "data": {
      "text/html": [
       "<div>\n",
       "<style scoped>\n",
       "    .dataframe tbody tr th:only-of-type {\n",
       "        vertical-align: middle;\n",
       "    }\n",
       "\n",
       "    .dataframe tbody tr th {\n",
       "        vertical-align: top;\n",
       "    }\n",
       "\n",
       "    .dataframe thead th {\n",
       "        text-align: right;\n",
       "    }\n",
       "</style>\n",
       "<table border=\"1\" class=\"dataframe\">\n",
       "  <thead>\n",
       "    <tr style=\"text-align: right;\">\n",
       "      <th></th>\n",
       "      <th>id</th>\n",
       "      <th>diagnosis</th>\n",
       "      <th>radius_mean</th>\n",
       "      <th>texture_mean</th>\n",
       "      <th>perimeter_mean</th>\n",
       "      <th>area_mean</th>\n",
       "      <th>smoothness_mean</th>\n",
       "      <th>compactness_mean</th>\n",
       "      <th>concavity_mean</th>\n",
       "      <th>concave points_mean</th>\n",
       "      <th>...</th>\n",
       "      <th>texture_worst</th>\n",
       "      <th>perimeter_worst</th>\n",
       "      <th>area_worst</th>\n",
       "      <th>smoothness_worst</th>\n",
       "      <th>compactness_worst</th>\n",
       "      <th>concavity_worst</th>\n",
       "      <th>concave points_worst</th>\n",
       "      <th>symmetry_worst</th>\n",
       "      <th>fractal_dimension_worst</th>\n",
       "      <th>Unnamed: 32</th>\n",
       "    </tr>\n",
       "  </thead>\n",
       "  <tbody>\n",
       "    <tr>\n",
       "      <th>559</th>\n",
       "      <td>925291</td>\n",
       "      <td>B</td>\n",
       "      <td>11.51</td>\n",
       "      <td>23.93</td>\n",
       "      <td>74.52</td>\n",
       "      <td>403.5</td>\n",
       "      <td>0.09261</td>\n",
       "      <td>0.10210</td>\n",
       "      <td>0.11120</td>\n",
       "      <td>0.04105</td>\n",
       "      <td>...</td>\n",
       "      <td>37.16</td>\n",
       "      <td>82.28</td>\n",
       "      <td>474.2</td>\n",
       "      <td>0.12980</td>\n",
       "      <td>0.25170</td>\n",
       "      <td>0.3630</td>\n",
       "      <td>0.09653</td>\n",
       "      <td>0.2112</td>\n",
       "      <td>0.08732</td>\n",
       "      <td>NaN</td>\n",
       "    </tr>\n",
       "    <tr>\n",
       "      <th>560</th>\n",
       "      <td>925292</td>\n",
       "      <td>B</td>\n",
       "      <td>14.05</td>\n",
       "      <td>27.15</td>\n",
       "      <td>91.38</td>\n",
       "      <td>600.4</td>\n",
       "      <td>0.09929</td>\n",
       "      <td>0.11260</td>\n",
       "      <td>0.04462</td>\n",
       "      <td>0.04304</td>\n",
       "      <td>...</td>\n",
       "      <td>33.17</td>\n",
       "      <td>100.20</td>\n",
       "      <td>706.7</td>\n",
       "      <td>0.12410</td>\n",
       "      <td>0.22640</td>\n",
       "      <td>0.1326</td>\n",
       "      <td>0.10480</td>\n",
       "      <td>0.2250</td>\n",
       "      <td>0.08321</td>\n",
       "      <td>NaN</td>\n",
       "    </tr>\n",
       "    <tr>\n",
       "      <th>561</th>\n",
       "      <td>925311</td>\n",
       "      <td>B</td>\n",
       "      <td>11.20</td>\n",
       "      <td>29.37</td>\n",
       "      <td>70.67</td>\n",
       "      <td>386.0</td>\n",
       "      <td>0.07449</td>\n",
       "      <td>0.03558</td>\n",
       "      <td>0.00000</td>\n",
       "      <td>0.00000</td>\n",
       "      <td>...</td>\n",
       "      <td>38.30</td>\n",
       "      <td>75.19</td>\n",
       "      <td>439.6</td>\n",
       "      <td>0.09267</td>\n",
       "      <td>0.05494</td>\n",
       "      <td>0.0000</td>\n",
       "      <td>0.00000</td>\n",
       "      <td>0.1566</td>\n",
       "      <td>0.05905</td>\n",
       "      <td>NaN</td>\n",
       "    </tr>\n",
       "    <tr>\n",
       "      <th>562</th>\n",
       "      <td>925622</td>\n",
       "      <td>M</td>\n",
       "      <td>15.22</td>\n",
       "      <td>30.62</td>\n",
       "      <td>103.40</td>\n",
       "      <td>716.9</td>\n",
       "      <td>0.10480</td>\n",
       "      <td>0.20870</td>\n",
       "      <td>0.25500</td>\n",
       "      <td>0.09429</td>\n",
       "      <td>...</td>\n",
       "      <td>42.79</td>\n",
       "      <td>128.70</td>\n",
       "      <td>915.0</td>\n",
       "      <td>0.14170</td>\n",
       "      <td>0.79170</td>\n",
       "      <td>1.1700</td>\n",
       "      <td>0.23560</td>\n",
       "      <td>0.4089</td>\n",
       "      <td>0.14090</td>\n",
       "      <td>NaN</td>\n",
       "    </tr>\n",
       "    <tr>\n",
       "      <th>563</th>\n",
       "      <td>926125</td>\n",
       "      <td>M</td>\n",
       "      <td>20.92</td>\n",
       "      <td>25.09</td>\n",
       "      <td>143.00</td>\n",
       "      <td>1347.0</td>\n",
       "      <td>0.10990</td>\n",
       "      <td>0.22360</td>\n",
       "      <td>0.31740</td>\n",
       "      <td>0.14740</td>\n",
       "      <td>...</td>\n",
       "      <td>29.41</td>\n",
       "      <td>179.10</td>\n",
       "      <td>1819.0</td>\n",
       "      <td>0.14070</td>\n",
       "      <td>0.41860</td>\n",
       "      <td>0.6599</td>\n",
       "      <td>0.25420</td>\n",
       "      <td>0.2929</td>\n",
       "      <td>0.09873</td>\n",
       "      <td>NaN</td>\n",
       "    </tr>\n",
       "    <tr>\n",
       "      <th>564</th>\n",
       "      <td>926424</td>\n",
       "      <td>M</td>\n",
       "      <td>21.56</td>\n",
       "      <td>22.39</td>\n",
       "      <td>142.00</td>\n",
       "      <td>1479.0</td>\n",
       "      <td>0.11100</td>\n",
       "      <td>0.11590</td>\n",
       "      <td>0.24390</td>\n",
       "      <td>0.13890</td>\n",
       "      <td>...</td>\n",
       "      <td>26.40</td>\n",
       "      <td>166.10</td>\n",
       "      <td>2027.0</td>\n",
       "      <td>0.14100</td>\n",
       "      <td>0.21130</td>\n",
       "      <td>0.4107</td>\n",
       "      <td>0.22160</td>\n",
       "      <td>0.2060</td>\n",
       "      <td>0.07115</td>\n",
       "      <td>NaN</td>\n",
       "    </tr>\n",
       "    <tr>\n",
       "      <th>565</th>\n",
       "      <td>926682</td>\n",
       "      <td>M</td>\n",
       "      <td>20.13</td>\n",
       "      <td>28.25</td>\n",
       "      <td>131.20</td>\n",
       "      <td>1261.0</td>\n",
       "      <td>0.09780</td>\n",
       "      <td>0.10340</td>\n",
       "      <td>0.14400</td>\n",
       "      <td>0.09791</td>\n",
       "      <td>...</td>\n",
       "      <td>38.25</td>\n",
       "      <td>155.00</td>\n",
       "      <td>1731.0</td>\n",
       "      <td>0.11660</td>\n",
       "      <td>0.19220</td>\n",
       "      <td>0.3215</td>\n",
       "      <td>0.16280</td>\n",
       "      <td>0.2572</td>\n",
       "      <td>0.06637</td>\n",
       "      <td>NaN</td>\n",
       "    </tr>\n",
       "    <tr>\n",
       "      <th>566</th>\n",
       "      <td>926954</td>\n",
       "      <td>M</td>\n",
       "      <td>16.60</td>\n",
       "      <td>28.08</td>\n",
       "      <td>108.30</td>\n",
       "      <td>858.1</td>\n",
       "      <td>0.08455</td>\n",
       "      <td>0.10230</td>\n",
       "      <td>0.09251</td>\n",
       "      <td>0.05302</td>\n",
       "      <td>...</td>\n",
       "      <td>34.12</td>\n",
       "      <td>126.70</td>\n",
       "      <td>1124.0</td>\n",
       "      <td>0.11390</td>\n",
       "      <td>0.30940</td>\n",
       "      <td>0.3403</td>\n",
       "      <td>0.14180</td>\n",
       "      <td>0.2218</td>\n",
       "      <td>0.07820</td>\n",
       "      <td>NaN</td>\n",
       "    </tr>\n",
       "    <tr>\n",
       "      <th>567</th>\n",
       "      <td>927241</td>\n",
       "      <td>M</td>\n",
       "      <td>20.60</td>\n",
       "      <td>29.33</td>\n",
       "      <td>140.10</td>\n",
       "      <td>1265.0</td>\n",
       "      <td>0.11780</td>\n",
       "      <td>0.27700</td>\n",
       "      <td>0.35140</td>\n",
       "      <td>0.15200</td>\n",
       "      <td>...</td>\n",
       "      <td>39.42</td>\n",
       "      <td>184.60</td>\n",
       "      <td>1821.0</td>\n",
       "      <td>0.16500</td>\n",
       "      <td>0.86810</td>\n",
       "      <td>0.9387</td>\n",
       "      <td>0.26500</td>\n",
       "      <td>0.4087</td>\n",
       "      <td>0.12400</td>\n",
       "      <td>NaN</td>\n",
       "    </tr>\n",
       "    <tr>\n",
       "      <th>568</th>\n",
       "      <td>92751</td>\n",
       "      <td>B</td>\n",
       "      <td>7.76</td>\n",
       "      <td>24.54</td>\n",
       "      <td>47.92</td>\n",
       "      <td>181.0</td>\n",
       "      <td>0.05263</td>\n",
       "      <td>0.04362</td>\n",
       "      <td>0.00000</td>\n",
       "      <td>0.00000</td>\n",
       "      <td>...</td>\n",
       "      <td>30.37</td>\n",
       "      <td>59.16</td>\n",
       "      <td>268.6</td>\n",
       "      <td>0.08996</td>\n",
       "      <td>0.06444</td>\n",
       "      <td>0.0000</td>\n",
       "      <td>0.00000</td>\n",
       "      <td>0.2871</td>\n",
       "      <td>0.07039</td>\n",
       "      <td>NaN</td>\n",
       "    </tr>\n",
       "  </tbody>\n",
       "</table>\n",
       "<p>10 rows × 33 columns</p>\n",
       "</div>"
      ],
      "text/plain": [
       "         id diagnosis  radius_mean  texture_mean  perimeter_mean  area_mean  \\\n",
       "559  925291         B        11.51         23.93           74.52      403.5   \n",
       "560  925292         B        14.05         27.15           91.38      600.4   \n",
       "561  925311         B        11.20         29.37           70.67      386.0   \n",
       "562  925622         M        15.22         30.62          103.40      716.9   \n",
       "563  926125         M        20.92         25.09          143.00     1347.0   \n",
       "564  926424         M        21.56         22.39          142.00     1479.0   \n",
       "565  926682         M        20.13         28.25          131.20     1261.0   \n",
       "566  926954         M        16.60         28.08          108.30      858.1   \n",
       "567  927241         M        20.60         29.33          140.10     1265.0   \n",
       "568   92751         B         7.76         24.54           47.92      181.0   \n",
       "\n",
       "     smoothness_mean  compactness_mean  concavity_mean  concave points_mean  \\\n",
       "559          0.09261           0.10210         0.11120              0.04105   \n",
       "560          0.09929           0.11260         0.04462              0.04304   \n",
       "561          0.07449           0.03558         0.00000              0.00000   \n",
       "562          0.10480           0.20870         0.25500              0.09429   \n",
       "563          0.10990           0.22360         0.31740              0.14740   \n",
       "564          0.11100           0.11590         0.24390              0.13890   \n",
       "565          0.09780           0.10340         0.14400              0.09791   \n",
       "566          0.08455           0.10230         0.09251              0.05302   \n",
       "567          0.11780           0.27700         0.35140              0.15200   \n",
       "568          0.05263           0.04362         0.00000              0.00000   \n",
       "\n",
       "     ...  texture_worst  perimeter_worst  area_worst  smoothness_worst  \\\n",
       "559  ...          37.16            82.28       474.2           0.12980   \n",
       "560  ...          33.17           100.20       706.7           0.12410   \n",
       "561  ...          38.30            75.19       439.6           0.09267   \n",
       "562  ...          42.79           128.70       915.0           0.14170   \n",
       "563  ...          29.41           179.10      1819.0           0.14070   \n",
       "564  ...          26.40           166.10      2027.0           0.14100   \n",
       "565  ...          38.25           155.00      1731.0           0.11660   \n",
       "566  ...          34.12           126.70      1124.0           0.11390   \n",
       "567  ...          39.42           184.60      1821.0           0.16500   \n",
       "568  ...          30.37            59.16       268.6           0.08996   \n",
       "\n",
       "     compactness_worst  concavity_worst  concave points_worst  symmetry_worst  \\\n",
       "559            0.25170           0.3630               0.09653          0.2112   \n",
       "560            0.22640           0.1326               0.10480          0.2250   \n",
       "561            0.05494           0.0000               0.00000          0.1566   \n",
       "562            0.79170           1.1700               0.23560          0.4089   \n",
       "563            0.41860           0.6599               0.25420          0.2929   \n",
       "564            0.21130           0.4107               0.22160          0.2060   \n",
       "565            0.19220           0.3215               0.16280          0.2572   \n",
       "566            0.30940           0.3403               0.14180          0.2218   \n",
       "567            0.86810           0.9387               0.26500          0.4087   \n",
       "568            0.06444           0.0000               0.00000          0.2871   \n",
       "\n",
       "     fractal_dimension_worst  Unnamed: 32  \n",
       "559                  0.08732          NaN  \n",
       "560                  0.08321          NaN  \n",
       "561                  0.05905          NaN  \n",
       "562                  0.14090          NaN  \n",
       "563                  0.09873          NaN  \n",
       "564                  0.07115          NaN  \n",
       "565                  0.06637          NaN  \n",
       "566                  0.07820          NaN  \n",
       "567                  0.12400          NaN  \n",
       "568                  0.07039          NaN  \n",
       "\n",
       "[10 rows x 33 columns]"
      ]
     },
     "execution_count": 2,
     "metadata": {},
     "output_type": "execute_result"
    }
   ],
   "source": [
    "#from google.colab import files\n",
    "#upload = files.upload()\n",
    "data = pd.read_csv('./data.csv')\n",
    "\n",
    "# print shape and last 10 rows\n",
    "print(data.shape)\n",
    "data.tail(10)"
   ]
  },
  {
   "cell_type": "markdown",
   "metadata": {
    "id": "74Tw6xk53p20"
   },
   "source": [
    "We can see that our data set has 569 samples and 33 columns. The column `id` can be taken as an index for our pandas dataframe and `diagnosis` is the label (either **M: malignant** or **B: benign**).\n",
    "\n",
    "Let's prepare the data set first of all by (i) cleaning it, (ii) separating label from features, and (iii) splitting it into train and test sets."
   ]
  },
  {
   "cell_type": "raw",
   "metadata": {
    "colab": {
     "base_uri": "https://localhost:8080/",
     "height": 304
    },
    "executionInfo": {
     "elapsed": 14,
     "status": "ok",
     "timestamp": 1706207034016,
     "user": {
      "displayName": "Li Zekai",
      "userId": "05086914790210896465"
     },
     "user_tz": 0
    },
    "id": "2mbvvJ-Kz2Dk",
    "outputId": "4f9f5b88-965e-42ff-eddc-cf8557129157"
   },
   "source": [
    "# drop last column (extra column added by pd)\n",
    "data_1 = data.drop(data.columns[-1], axis=1)\n",
    "\n",
    "# set column id as dataframe index\n",
    "data_2 = data_1.set_index(data['id']).drop(data_1.columns[0], axis=1)\n",
    "\n",
    "# check\n",
    "data_2.tail()"
   ]
  },
  {
   "cell_type": "markdown",
   "metadata": {
    "id": "5zQ1tedL7dNI"
   },
   "source": [
    "We do a bit more preparation by converting the categorical labels into 1 for **M** and -1 for **B**."
   ]
  },
  {
   "cell_type": "code",
   "execution_count": 4,
   "metadata": {
    "colab": {
     "base_uri": "https://localhost:8080/",
     "height": 428
    },
    "executionInfo": {
     "elapsed": 13,
     "status": "ok",
     "timestamp": 1706207034016,
     "user": {
      "displayName": "Li Zekai",
      "userId": "05086914790210896465"
     },
     "user_tz": 0
    },
    "id": "1zbSOnY06rwL",
    "outputId": "6ae0eae3-52de-4bef-e592-601f8fb01696"
   },
   "outputs": [
    {
     "name": "stdout",
     "output_type": "stream",
     "text": [
      "id\n",
      "926424    1.0\n",
      "926682    1.0\n",
      "926954    1.0\n",
      "927241    1.0\n",
      "92751    -1.0\n",
      "Name: diagnosis, dtype: float64\n"
     ]
    },
    {
     "data": {
      "text/html": [
       "<div>\n",
       "<style scoped>\n",
       "    .dataframe tbody tr th:only-of-type {\n",
       "        vertical-align: middle;\n",
       "    }\n",
       "\n",
       "    .dataframe tbody tr th {\n",
       "        vertical-align: top;\n",
       "    }\n",
       "\n",
       "    .dataframe thead th {\n",
       "        text-align: right;\n",
       "    }\n",
       "</style>\n",
       "<table border=\"1\" class=\"dataframe\">\n",
       "  <thead>\n",
       "    <tr style=\"text-align: right;\">\n",
       "      <th></th>\n",
       "      <th>radius_mean</th>\n",
       "      <th>texture_mean</th>\n",
       "      <th>perimeter_mean</th>\n",
       "      <th>area_mean</th>\n",
       "      <th>smoothness_mean</th>\n",
       "      <th>compactness_mean</th>\n",
       "      <th>concavity_mean</th>\n",
       "      <th>concave points_mean</th>\n",
       "      <th>symmetry_mean</th>\n",
       "      <th>fractal_dimension_mean</th>\n",
       "      <th>...</th>\n",
       "      <th>radius_worst</th>\n",
       "      <th>texture_worst</th>\n",
       "      <th>perimeter_worst</th>\n",
       "      <th>area_worst</th>\n",
       "      <th>smoothness_worst</th>\n",
       "      <th>compactness_worst</th>\n",
       "      <th>concavity_worst</th>\n",
       "      <th>concave points_worst</th>\n",
       "      <th>symmetry_worst</th>\n",
       "      <th>fractal_dimension_worst</th>\n",
       "    </tr>\n",
       "    <tr>\n",
       "      <th>id</th>\n",
       "      <th></th>\n",
       "      <th></th>\n",
       "      <th></th>\n",
       "      <th></th>\n",
       "      <th></th>\n",
       "      <th></th>\n",
       "      <th></th>\n",
       "      <th></th>\n",
       "      <th></th>\n",
       "      <th></th>\n",
       "      <th></th>\n",
       "      <th></th>\n",
       "      <th></th>\n",
       "      <th></th>\n",
       "      <th></th>\n",
       "      <th></th>\n",
       "      <th></th>\n",
       "      <th></th>\n",
       "      <th></th>\n",
       "      <th></th>\n",
       "      <th></th>\n",
       "    </tr>\n",
       "  </thead>\n",
       "  <tbody>\n",
       "    <tr>\n",
       "      <th>926424</th>\n",
       "      <td>21.56</td>\n",
       "      <td>22.39</td>\n",
       "      <td>142.00</td>\n",
       "      <td>1479.0</td>\n",
       "      <td>0.11100</td>\n",
       "      <td>0.11590</td>\n",
       "      <td>0.24390</td>\n",
       "      <td>0.13890</td>\n",
       "      <td>0.1726</td>\n",
       "      <td>0.05623</td>\n",
       "      <td>...</td>\n",
       "      <td>25.450</td>\n",
       "      <td>26.40</td>\n",
       "      <td>166.10</td>\n",
       "      <td>2027.0</td>\n",
       "      <td>0.14100</td>\n",
       "      <td>0.21130</td>\n",
       "      <td>0.4107</td>\n",
       "      <td>0.2216</td>\n",
       "      <td>0.2060</td>\n",
       "      <td>0.07115</td>\n",
       "    </tr>\n",
       "    <tr>\n",
       "      <th>926682</th>\n",
       "      <td>20.13</td>\n",
       "      <td>28.25</td>\n",
       "      <td>131.20</td>\n",
       "      <td>1261.0</td>\n",
       "      <td>0.09780</td>\n",
       "      <td>0.10340</td>\n",
       "      <td>0.14400</td>\n",
       "      <td>0.09791</td>\n",
       "      <td>0.1752</td>\n",
       "      <td>0.05533</td>\n",
       "      <td>...</td>\n",
       "      <td>23.690</td>\n",
       "      <td>38.25</td>\n",
       "      <td>155.00</td>\n",
       "      <td>1731.0</td>\n",
       "      <td>0.11660</td>\n",
       "      <td>0.19220</td>\n",
       "      <td>0.3215</td>\n",
       "      <td>0.1628</td>\n",
       "      <td>0.2572</td>\n",
       "      <td>0.06637</td>\n",
       "    </tr>\n",
       "    <tr>\n",
       "      <th>926954</th>\n",
       "      <td>16.60</td>\n",
       "      <td>28.08</td>\n",
       "      <td>108.30</td>\n",
       "      <td>858.1</td>\n",
       "      <td>0.08455</td>\n",
       "      <td>0.10230</td>\n",
       "      <td>0.09251</td>\n",
       "      <td>0.05302</td>\n",
       "      <td>0.1590</td>\n",
       "      <td>0.05648</td>\n",
       "      <td>...</td>\n",
       "      <td>18.980</td>\n",
       "      <td>34.12</td>\n",
       "      <td>126.70</td>\n",
       "      <td>1124.0</td>\n",
       "      <td>0.11390</td>\n",
       "      <td>0.30940</td>\n",
       "      <td>0.3403</td>\n",
       "      <td>0.1418</td>\n",
       "      <td>0.2218</td>\n",
       "      <td>0.07820</td>\n",
       "    </tr>\n",
       "    <tr>\n",
       "      <th>927241</th>\n",
       "      <td>20.60</td>\n",
       "      <td>29.33</td>\n",
       "      <td>140.10</td>\n",
       "      <td>1265.0</td>\n",
       "      <td>0.11780</td>\n",
       "      <td>0.27700</td>\n",
       "      <td>0.35140</td>\n",
       "      <td>0.15200</td>\n",
       "      <td>0.2397</td>\n",
       "      <td>0.07016</td>\n",
       "      <td>...</td>\n",
       "      <td>25.740</td>\n",
       "      <td>39.42</td>\n",
       "      <td>184.60</td>\n",
       "      <td>1821.0</td>\n",
       "      <td>0.16500</td>\n",
       "      <td>0.86810</td>\n",
       "      <td>0.9387</td>\n",
       "      <td>0.2650</td>\n",
       "      <td>0.4087</td>\n",
       "      <td>0.12400</td>\n",
       "    </tr>\n",
       "    <tr>\n",
       "      <th>92751</th>\n",
       "      <td>7.76</td>\n",
       "      <td>24.54</td>\n",
       "      <td>47.92</td>\n",
       "      <td>181.0</td>\n",
       "      <td>0.05263</td>\n",
       "      <td>0.04362</td>\n",
       "      <td>0.00000</td>\n",
       "      <td>0.00000</td>\n",
       "      <td>0.1587</td>\n",
       "      <td>0.05884</td>\n",
       "      <td>...</td>\n",
       "      <td>9.456</td>\n",
       "      <td>30.37</td>\n",
       "      <td>59.16</td>\n",
       "      <td>268.6</td>\n",
       "      <td>0.08996</td>\n",
       "      <td>0.06444</td>\n",
       "      <td>0.0000</td>\n",
       "      <td>0.0000</td>\n",
       "      <td>0.2871</td>\n",
       "      <td>0.07039</td>\n",
       "    </tr>\n",
       "  </tbody>\n",
       "</table>\n",
       "<p>5 rows × 30 columns</p>\n",
       "</div>"
      ],
      "text/plain": [
       "        radius_mean  texture_mean  perimeter_mean  area_mean  smoothness_mean  \\\n",
       "id                                                                              \n",
       "926424        21.56         22.39          142.00     1479.0          0.11100   \n",
       "926682        20.13         28.25          131.20     1261.0          0.09780   \n",
       "926954        16.60         28.08          108.30      858.1          0.08455   \n",
       "927241        20.60         29.33          140.10     1265.0          0.11780   \n",
       "92751          7.76         24.54           47.92      181.0          0.05263   \n",
       "\n",
       "        compactness_mean  concavity_mean  concave points_mean  symmetry_mean  \\\n",
       "id                                                                             \n",
       "926424           0.11590         0.24390              0.13890         0.1726   \n",
       "926682           0.10340         0.14400              0.09791         0.1752   \n",
       "926954           0.10230         0.09251              0.05302         0.1590   \n",
       "927241           0.27700         0.35140              0.15200         0.2397   \n",
       "92751            0.04362         0.00000              0.00000         0.1587   \n",
       "\n",
       "        fractal_dimension_mean  ...  radius_worst  texture_worst  \\\n",
       "id                              ...                                \n",
       "926424                 0.05623  ...        25.450          26.40   \n",
       "926682                 0.05533  ...        23.690          38.25   \n",
       "926954                 0.05648  ...        18.980          34.12   \n",
       "927241                 0.07016  ...        25.740          39.42   \n",
       "92751                  0.05884  ...         9.456          30.37   \n",
       "\n",
       "        perimeter_worst  area_worst  smoothness_worst  compactness_worst  \\\n",
       "id                                                                         \n",
       "926424           166.10      2027.0           0.14100            0.21130   \n",
       "926682           155.00      1731.0           0.11660            0.19220   \n",
       "926954           126.70      1124.0           0.11390            0.30940   \n",
       "927241           184.60      1821.0           0.16500            0.86810   \n",
       "92751             59.16       268.6           0.08996            0.06444   \n",
       "\n",
       "        concavity_worst  concave points_worst  symmetry_worst  \\\n",
       "id                                                              \n",
       "926424           0.4107                0.2216          0.2060   \n",
       "926682           0.3215                0.1628          0.2572   \n",
       "926954           0.3403                0.1418          0.2218   \n",
       "927241           0.9387                0.2650          0.4087   \n",
       "92751            0.0000                0.0000          0.2871   \n",
       "\n",
       "        fractal_dimension_worst  \n",
       "id                               \n",
       "926424                  0.07115  \n",
       "926682                  0.06637  \n",
       "926954                  0.07820  \n",
       "927241                  0.12400  \n",
       "92751                   0.07039  \n",
       "\n",
       "[5 rows x 30 columns]"
      ]
     },
     "execution_count": 4,
     "metadata": {},
     "output_type": "execute_result"
    }
   ],
   "source": [
    "# convert categorical labels to numbers\n",
    "diag_map = {'M': 1.0, 'B': -1.0}\n",
    "data_2['diagnosis'] = data_2['diagnosis'].map(diag_map)\n",
    "\n",
    "# put labels and features in different dataframes\n",
    "y = data_2.loc[:, 'diagnosis'] # loc is typically used for label indexing\n",
    "X = data_2.iloc[:, 1:] # iloc is used for integer indexing\n",
    "\n",
    "# check\n",
    "print(y.tail())\n",
    "X.tail()"
   ]
  },
  {
   "cell_type": "markdown",
   "metadata": {
    "id": "PbllXkPK8fQw"
   },
   "source": [
    "As with any data set that has features over different ranges, it's required to standardise the data before."
   ]
  },
  {
   "cell_type": "code",
   "execution_count": 8,
   "metadata": {
    "id": "PSVn27p88EFl"
   },
   "outputs": [],
   "source": [
    "## EDIT THIS FUNCTION\n",
    "def standardise(X):\n",
    "    mu = np.mean(X, 0)\n",
    "    sigma = np.std(X, 0)\n",
    "    X_std = (X - mu) / sigma ## <-- SOLUTION\n",
    "    return X_std"
   ]
  },
  {
   "cell_type": "code",
   "execution_count": 9,
   "metadata": {
    "colab": {
     "base_uri": "https://localhost:8080/",
     "height": 304
    },
    "executionInfo": {
     "elapsed": 11,
     "status": "ok",
     "timestamp": 1706207034016,
     "user": {
      "displayName": "Li Zekai",
      "userId": "05086914790210896465"
     },
     "user_tz": 0
    },
    "id": "fMyxlg678EC7",
    "outputId": "3d3b6c34-18b3-49b6-b231-e51b918c6c70"
   },
   "outputs": [
    {
     "data": {
      "text/html": [
       "<div>\n",
       "<style scoped>\n",
       "    .dataframe tbody tr th:only-of-type {\n",
       "        vertical-align: middle;\n",
       "    }\n",
       "\n",
       "    .dataframe tbody tr th {\n",
       "        vertical-align: top;\n",
       "    }\n",
       "\n",
       "    .dataframe thead th {\n",
       "        text-align: right;\n",
       "    }\n",
       "</style>\n",
       "<table border=\"1\" class=\"dataframe\">\n",
       "  <thead>\n",
       "    <tr style=\"text-align: right;\">\n",
       "      <th></th>\n",
       "      <th>radius_mean</th>\n",
       "      <th>texture_mean</th>\n",
       "      <th>perimeter_mean</th>\n",
       "      <th>area_mean</th>\n",
       "      <th>smoothness_mean</th>\n",
       "      <th>compactness_mean</th>\n",
       "      <th>concavity_mean</th>\n",
       "      <th>concave points_mean</th>\n",
       "      <th>symmetry_mean</th>\n",
       "      <th>fractal_dimension_mean</th>\n",
       "      <th>...</th>\n",
       "      <th>radius_worst</th>\n",
       "      <th>texture_worst</th>\n",
       "      <th>perimeter_worst</th>\n",
       "      <th>area_worst</th>\n",
       "      <th>smoothness_worst</th>\n",
       "      <th>compactness_worst</th>\n",
       "      <th>concavity_worst</th>\n",
       "      <th>concave points_worst</th>\n",
       "      <th>symmetry_worst</th>\n",
       "      <th>fractal_dimension_worst</th>\n",
       "    </tr>\n",
       "    <tr>\n",
       "      <th>id</th>\n",
       "      <th></th>\n",
       "      <th></th>\n",
       "      <th></th>\n",
       "      <th></th>\n",
       "      <th></th>\n",
       "      <th></th>\n",
       "      <th></th>\n",
       "      <th></th>\n",
       "      <th></th>\n",
       "      <th></th>\n",
       "      <th></th>\n",
       "      <th></th>\n",
       "      <th></th>\n",
       "      <th></th>\n",
       "      <th></th>\n",
       "      <th></th>\n",
       "      <th></th>\n",
       "      <th></th>\n",
       "      <th></th>\n",
       "      <th></th>\n",
       "      <th></th>\n",
       "    </tr>\n",
       "  </thead>\n",
       "  <tbody>\n",
       "    <tr>\n",
       "      <th>926424</th>\n",
       "      <td>2.110995</td>\n",
       "      <td>0.721473</td>\n",
       "      <td>2.060786</td>\n",
       "      <td>2.343856</td>\n",
       "      <td>1.041842</td>\n",
       "      <td>0.219060</td>\n",
       "      <td>1.947285</td>\n",
       "      <td>2.320965</td>\n",
       "      <td>-0.312589</td>\n",
       "      <td>-0.931027</td>\n",
       "      <td>...</td>\n",
       "      <td>1.901185</td>\n",
       "      <td>0.117700</td>\n",
       "      <td>1.752563</td>\n",
       "      <td>2.015301</td>\n",
       "      <td>0.378365</td>\n",
       "      <td>-0.273318</td>\n",
       "      <td>0.664512</td>\n",
       "      <td>1.629151</td>\n",
       "      <td>-1.360158</td>\n",
       "      <td>-0.709091</td>\n",
       "    </tr>\n",
       "    <tr>\n",
       "      <th>926682</th>\n",
       "      <td>1.704854</td>\n",
       "      <td>2.085134</td>\n",
       "      <td>1.615931</td>\n",
       "      <td>1.723842</td>\n",
       "      <td>0.102458</td>\n",
       "      <td>-0.017833</td>\n",
       "      <td>0.693043</td>\n",
       "      <td>1.263669</td>\n",
       "      <td>-0.217664</td>\n",
       "      <td>-1.058611</td>\n",
       "      <td>...</td>\n",
       "      <td>1.536720</td>\n",
       "      <td>2.047399</td>\n",
       "      <td>1.421940</td>\n",
       "      <td>1.494959</td>\n",
       "      <td>-0.691230</td>\n",
       "      <td>-0.394820</td>\n",
       "      <td>0.236573</td>\n",
       "      <td>0.733827</td>\n",
       "      <td>-0.531855</td>\n",
       "      <td>-0.973978</td>\n",
       "    </tr>\n",
       "    <tr>\n",
       "      <th>926954</th>\n",
       "      <td>0.702284</td>\n",
       "      <td>2.045574</td>\n",
       "      <td>0.672676</td>\n",
       "      <td>0.577953</td>\n",
       "      <td>-0.840484</td>\n",
       "      <td>-0.038680</td>\n",
       "      <td>0.046588</td>\n",
       "      <td>0.105777</td>\n",
       "      <td>-0.809117</td>\n",
       "      <td>-0.895587</td>\n",
       "      <td>...</td>\n",
       "      <td>0.561361</td>\n",
       "      <td>1.374854</td>\n",
       "      <td>0.579001</td>\n",
       "      <td>0.427906</td>\n",
       "      <td>-0.809587</td>\n",
       "      <td>0.350735</td>\n",
       "      <td>0.326767</td>\n",
       "      <td>0.414069</td>\n",
       "      <td>-1.104549</td>\n",
       "      <td>-0.318409</td>\n",
       "    </tr>\n",
       "    <tr>\n",
       "      <th>927241</th>\n",
       "      <td>1.838341</td>\n",
       "      <td>2.336457</td>\n",
       "      <td>1.982524</td>\n",
       "      <td>1.735218</td>\n",
       "      <td>1.525767</td>\n",
       "      <td>3.272144</td>\n",
       "      <td>3.296944</td>\n",
       "      <td>2.658866</td>\n",
       "      <td>2.137194</td>\n",
       "      <td>1.043695</td>\n",
       "      <td>...</td>\n",
       "      <td>1.961239</td>\n",
       "      <td>2.237926</td>\n",
       "      <td>2.303601</td>\n",
       "      <td>1.653171</td>\n",
       "      <td>1.430427</td>\n",
       "      <td>3.904848</td>\n",
       "      <td>3.197605</td>\n",
       "      <td>2.289985</td>\n",
       "      <td>1.919083</td>\n",
       "      <td>2.219635</td>\n",
       "    </tr>\n",
       "    <tr>\n",
       "      <th>92751</th>\n",
       "      <td>-1.808401</td>\n",
       "      <td>1.221792</td>\n",
       "      <td>-1.814389</td>\n",
       "      <td>-1.347789</td>\n",
       "      <td>-3.112085</td>\n",
       "      <td>-1.150752</td>\n",
       "      <td>-1.114873</td>\n",
       "      <td>-1.261820</td>\n",
       "      <td>-0.820070</td>\n",
       "      <td>-0.561032</td>\n",
       "      <td>...</td>\n",
       "      <td>-1.410893</td>\n",
       "      <td>0.764190</td>\n",
       "      <td>-1.432735</td>\n",
       "      <td>-1.075813</td>\n",
       "      <td>-1.859019</td>\n",
       "      <td>-1.207552</td>\n",
       "      <td>-1.305831</td>\n",
       "      <td>-1.745063</td>\n",
       "      <td>-0.048138</td>\n",
       "      <td>-0.751207</td>\n",
       "    </tr>\n",
       "  </tbody>\n",
       "</table>\n",
       "<p>5 rows × 30 columns</p>\n",
       "</div>"
      ],
      "text/plain": [
       "        radius_mean  texture_mean  perimeter_mean  area_mean  smoothness_mean  \\\n",
       "id                                                                              \n",
       "926424     2.110995      0.721473        2.060786   2.343856         1.041842   \n",
       "926682     1.704854      2.085134        1.615931   1.723842         0.102458   \n",
       "926954     0.702284      2.045574        0.672676   0.577953        -0.840484   \n",
       "927241     1.838341      2.336457        1.982524   1.735218         1.525767   \n",
       "92751     -1.808401      1.221792       -1.814389  -1.347789        -3.112085   \n",
       "\n",
       "        compactness_mean  concavity_mean  concave points_mean  symmetry_mean  \\\n",
       "id                                                                             \n",
       "926424          0.219060        1.947285             2.320965      -0.312589   \n",
       "926682         -0.017833        0.693043             1.263669      -0.217664   \n",
       "926954         -0.038680        0.046588             0.105777      -0.809117   \n",
       "927241          3.272144        3.296944             2.658866       2.137194   \n",
       "92751          -1.150752       -1.114873            -1.261820      -0.820070   \n",
       "\n",
       "        fractal_dimension_mean  ...  radius_worst  texture_worst  \\\n",
       "id                              ...                                \n",
       "926424               -0.931027  ...      1.901185       0.117700   \n",
       "926682               -1.058611  ...      1.536720       2.047399   \n",
       "926954               -0.895587  ...      0.561361       1.374854   \n",
       "927241                1.043695  ...      1.961239       2.237926   \n",
       "92751                -0.561032  ...     -1.410893       0.764190   \n",
       "\n",
       "        perimeter_worst  area_worst  smoothness_worst  compactness_worst  \\\n",
       "id                                                                         \n",
       "926424         1.752563    2.015301          0.378365          -0.273318   \n",
       "926682         1.421940    1.494959         -0.691230          -0.394820   \n",
       "926954         0.579001    0.427906         -0.809587           0.350735   \n",
       "927241         2.303601    1.653171          1.430427           3.904848   \n",
       "92751         -1.432735   -1.075813         -1.859019          -1.207552   \n",
       "\n",
       "        concavity_worst  concave points_worst  symmetry_worst  \\\n",
       "id                                                              \n",
       "926424         0.664512              1.629151       -1.360158   \n",
       "926682         0.236573              0.733827       -0.531855   \n",
       "926954         0.326767              0.414069       -1.104549   \n",
       "927241         3.197605              2.289985        1.919083   \n",
       "92751         -1.305831             -1.745063       -0.048138   \n",
       "\n",
       "        fractal_dimension_worst  \n",
       "id                               \n",
       "926424                -0.709091  \n",
       "926682                -0.973978  \n",
       "926954                -0.318409  \n",
       "927241                 2.219635  \n",
       "92751                 -0.751207  \n",
       "\n",
       "[5 rows x 30 columns]"
      ]
     },
     "execution_count": 9,
     "metadata": {},
     "output_type": "execute_result"
    }
   ],
   "source": [
    "X_std = standardise(X)\n",
    "\n",
    "# check\n",
    "X_std.tail()"
   ]
  },
  {
   "cell_type": "code",
   "execution_count": 15,
   "metadata": {
    "executionInfo": {
     "elapsed": 173,
     "status": "ok",
     "timestamp": 1706214195398,
     "user": {
      "displayName": "Li Zekai",
      "userId": "05086914790210896465"
     },
     "user_tz": 0
    },
    "id": "qcw02XXM8EAe"
   },
   "outputs": [],
   "source": [
    "# split into train and test set\n",
    "# stacking data X and labels y into one matrix\n",
    "#data_split = np.hstack((X_std, y[:, np.newaxis]))\n",
    "# There can be a bug caused by Python versions, try also data_split = np.hstack((X_std, np.array(y)[:, np.newaxis]))\n",
    "data_split = np.hstack((X_std, np.array(y)[:, np.newaxis]))\n",
    "\n",
    "# shuffling the rows\n",
    "np.random.shuffle(data_split)\n",
    "\n",
    "# we split train to test as 70:30\n",
    "split_rate = 0.7\n",
    "train, test = np.split(data_split, [int(split_rate*(data_split.shape[0]))])\n",
    "\n",
    "X_train = train[:,:-1]\n",
    "y_train = train[:, -1]\n",
    "\n",
    "X_test = test[:,:-1]\n",
    "y_test = test[:, -1]\n",
    "\n",
    "y_train = y_train.astype(float)\n",
    "y_test = y_test.astype(float)\n",
    "\n",
    "# insert 1 in every row for intercept b\n",
    "X_train_intercept = np.hstack((X_train, np.ones((len(X_train),1)) ))\n",
    "X_test_intercept = np.hstack((X_test, np.ones((len(X_test),1)) ))"
   ]
  },
  {
   "cell_type": "markdown",
   "metadata": {
    "id": "jMo_v3TGCJBD",
    "tags": []
   },
   "source": [
    "<a name=\"section-2\"></a>\n",
    "\n",
    "## Section 2: Linear SVM Formulation\n",
    "\n",
    "We start with defining the hinge loss as\n",
    "$$\n",
    "\\mathcal L (\\boldsymbol w) = \\frac{1}{2} \\| \\boldsymbol w \\|^2 + \\lambda \\sum_{i=1}^n \\max \\bigg( 0, 1-y_i (x^{(i)} \\cdot \\boldsymbol w  + b) \\bigg) \\, .\n",
    "$$\n",
    "where $\\boldsymbol w$ is the vector of weights, $\\lambda$ the regularisation parameter, and $b$ the intercept which is included in our `X` as an additional column of $1$'s."
   ]
  },
  {
   "cell_type": "code",
   "execution_count": 16,
   "metadata": {
    "id": "O8NCZ2Wj8D8m"
   },
   "outputs": [],
   "source": [
    "# EDIT THIS FUNCTION\n",
    "def compute_cost(w, X, y, regul_strength=1e5):\n",
    "    n = X.shape[0]\n",
    "    distances = 1 - y * (X @ w)  ## <-- SOLUTION\n",
    "    distances[distances < 0] = 0  # equivalent to max(0, distance)\n",
    "    hinge = regul_strength * distances.mean() ## <-- SOLUTION\n",
    "\n",
    "    # calculate cost\n",
    "    return 0.5 * np.dot(w, w) + hinge - 0.5 * w[-1] ** 2"
   ]
  },
  {
   "cell_type": "markdown",
   "metadata": {
    "id": "bm_NG7EfAYfr"
   },
   "source": [
    "<a name=\"section-3\"></a>\n",
    "\n",
    "## Section 3: SVM Optimization using SGD"
   ]
  },
  {
   "cell_type": "markdown",
   "metadata": {
    "id": "fPlQQlNJHgGI"
   },
   "source": [
    "One way to optimize the cost is by using stochastic gradient descent (SGD) algorithm. In order to use SGD, we need to implement a function for the cost gradients with respect to $\\boldsymbol w$."
   ]
  },
  {
   "cell_type": "code",
   "execution_count": 18,
   "metadata": {
    "id": "yvsu7ukAE79Y"
   },
   "outputs": [],
   "source": [
    "# calculate gradient of cost\n",
    "def calculate_cost_gradient(w, X_batch, y_batch, regul_strength=1e6):\n",
    "    # if only one example is passed\n",
    "    if type(y_batch) == np.float64:\n",
    "        y_batch = np.asarray([y_batch])\n",
    "        X_batch = np.asarray([X_batch])  # gives multidimensional array\n",
    "\n",
    "    distance = 1 - (y_batch * (X_batch @ w))\n",
    "    dw = np.zeros(len(w))\n",
    "\n",
    "    we = w.copy() # So as not to overwrite w\n",
    "    we[-1] = 0 # So as not to have b in its derivative when adding the weights in di\n",
    "\n",
    "    for ind, d in enumerate(distance):\n",
    "        if max(0, d)==0: ## <-- SOLUTION\n",
    "            di = we ## <-- SOLUTION\n",
    "        else:\n",
    "            di = we - (regul_strength * y_batch[ind] * X_batch[ind]) ## <-- SOLUTION\n",
    "        dw += di\n",
    "\n",
    "    return dw/len(y_batch)  # average"
   ]
  },
  {
   "cell_type": "markdown",
   "metadata": {
    "id": "5X3_B9V-I0mX"
   },
   "source": [
    "Both of the two previous functions are then used in SGD to update the weights iteratively with a given learning rate $\\alpha$. We also implement a stop criterion that ends the learning as soon as the cost function has not changed more than a manually determined percentage.\n",
    "\n",
    "We know that the learning happens through updating the weights according to\n",
    "$$\n",
    "\\boldsymbol w = \\boldsymbol w - \\alpha \\frac{\\partial \\mathcal L}{\\partial \\boldsymbol w}\n",
    "$$\n",
    "\n",
    "where $\\frac{\\partial \\mathcal L}{\\partial \\boldsymbol w}$ is the gradient of the hinge loss we have computed in the previous cell."
   ]
  },
  {
   "cell_type": "code",
   "execution_count": 23,
   "metadata": {
    "id": "a-S8N9C78D5R"
   },
   "outputs": [],
   "source": [
    "# EDIT THIS FUNCTION\n",
    "def sgd(X, y, max_iterations=2000, stop_criterion=0.01, learning_rate=1e-5, regul_strength=1e6, print_outcome=False):\n",
    "\n",
    "    # initialise zero weights\n",
    "    weights = np.zeros(X.shape[1])\n",
    "    nth = 0\n",
    "    # initialise starting cost as infinity\n",
    "    prev_cost = np.inf\n",
    "    # record costs\n",
    "    cost_list = []\n",
    "    iteration_list = []\n",
    "\n",
    "    # stochastic gradient descent\n",
    "    indices = np.arange(len(y))\n",
    "\n",
    "    for iteration in range(max_iterations):\n",
    "        # shuffle to prevent repeating update cycles\n",
    "        np.random.shuffle(indices)\n",
    "        X, y = X[indices], y[indices]\n",
    "\n",
    "        for xi, yi in zip(X, y):\n",
    "            descent = calculate_cost_gradient(weights, xi, yi, regul_strength) ## <-- SOLUTION\n",
    "            weights = weights - (learning_rate * descent) ## <-- SOLUTION\n",
    "\n",
    "        # convergence check on 2^n'th iteration\n",
    "        if iteration==2**nth or iteration==max_iterations-1:\n",
    "            # compute cost\n",
    "            cost = compute_cost(weights, X, y, regul_strength)  ## <-- SOLUTION\n",
    "            if print_outcome:\n",
    "                print(\"Iteration is: {}, Cost is: {}\".format(iteration, cost))\n",
    "            # stop criterion\n",
    "            if abs(prev_cost - cost) < stop_criterion * prev_cost: ## <-- SOLUTION\n",
    "                return weights, cost_list, iteration_list\n",
    "\n",
    "            prev_cost = cost\n",
    "            iteration_list.append(iteration)\n",
    "            cost_list.append(cost)\n",
    "            nth += 1\n",
    "\n",
    "    return weights, cost_list, iteration_list"
   ]
  },
  {
   "cell_type": "markdown",
   "metadata": {
    "id": "XTU9fyVYK8ay"
   },
   "source": [
    "Now, we can take these functions and train a linear SVM with our training data."
   ]
  },
  {
   "cell_type": "code",
   "execution_count": 24,
   "metadata": {
    "colab": {
     "base_uri": "https://localhost:8080/"
    },
    "executionInfo": {
     "elapsed": 9572,
     "status": "ok",
     "timestamp": 1706207043580,
     "user": {
      "displayName": "Li Zekai",
      "userId": "05086914790210896465"
     },
     "user_tz": 0
    },
    "id": "2bdsUvtu8D2f",
    "outputId": "9dacb14a-157f-497f-a0dd-6872afec4c94"
   },
   "outputs": [
    {
     "name": "stdout",
     "output_type": "stream",
     "text": [
      "Iteration is: 1, Cost is: 4.663138319839812\n",
      "Iteration is: 2, Cost is: 3.509426534698622\n",
      "Iteration is: 4, Cost is: 2.625537431949993\n",
      "Iteration is: 8, Cost is: 2.029414434616949\n",
      "Iteration is: 16, Cost is: 1.6092173308677071\n",
      "Iteration is: 32, Cost is: 1.3425475597304235\n",
      "Iteration is: 64, Cost is: 1.2268584262824662\n",
      "Iteration is: 128, Cost is: 1.1600215355588894\n",
      "Iteration is: 256, Cost is: 1.1418845745095754\n",
      "Iteration is: 512, Cost is: 1.1384334170747474\n",
      "Iteration is: 1024, Cost is: 1.1379221093193854\n",
      "Training finished.\n"
     ]
    }
   ],
   "source": [
    "# train the model\n",
    "lam=10\n",
    "w, costs, iterations = sgd(X_train_intercept, y_train, max_iterations=2000, stop_criterion=0.001, learning_rate=1e-5, regul_strength=lam, print_outcome=True)\n",
    "print(\"Training finished.\")"
   ]
  },
  {
   "cell_type": "markdown",
   "metadata": {
    "id": "dCB0b-u22ZkO"
   },
   "source": [
    "We can plot the cost against the iteractions to check nothing went wrong"
   ]
  },
  {
   "cell_type": "code",
   "execution_count": 25,
   "metadata": {
    "colab": {
     "base_uri": "https://localhost:8080/",
     "height": 472
    },
    "executionInfo": {
     "elapsed": 367,
     "status": "ok",
     "timestamp": 1706207043939,
     "user": {
      "displayName": "Li Zekai",
      "userId": "05086914790210896465"
     },
     "user_tz": 0
    },
    "id": "8gTUM66D2Y3F",
    "outputId": "76b26507-9c4b-45e0-c334-73599afcac70"
   },
   "outputs": [
    {
     "data": {
      "image/png": "[encoded data removed]",
      "text/plain": [
       "<Figure size 640x480 with 1 Axes>"
      ]
     },
     "metadata": {},
     "output_type": "display_data"
    }
   ],
   "source": [
    "plt.plot(iterations, costs)\n",
    "plt.title('Training costs')\n",
    "\n",
    "plt.xlabel(\"Iterations\")\n",
    "plt.ylabel(\"Cost\")\n",
    "plt.show()"
   ]
  },
  {
   "cell_type": "markdown",
   "metadata": {
    "id": "7GQqts4_O1WE"
   },
   "source": [
    "To evaluate the mean accuracy in both train and test set, we write a small function called `score`."
   ]
  },
  {
   "cell_type": "code",
   "execution_count": 26,
   "metadata": {
    "colab": {
     "base_uri": "https://localhost:8080/"
    },
    "executionInfo": {
     "elapsed": 235,
     "status": "ok",
     "timestamp": 1706207044169,
     "user": {
      "displayName": "Li Zekai",
      "userId": "05086914790210896465"
     },
     "user_tz": 0
    },
    "id": "5JahERSXOtJj",
    "outputId": "cd0dea4c-aea2-4b5d-c7e7-70b31496b42f"
   },
   "outputs": [
    {
     "name": "stdout",
     "output_type": "stream",
     "text": [
      "Accuracy on training set: 0.9874371859296482\n",
      "Accuracy on test set: 0.9473684210526315\n"
     ]
    }
   ],
   "source": [
    "## EDIT THIS FUNCTION\n",
    "def score(w, X, y):\n",
    "    y_preds = np.sign(X @ w)\n",
    "    return np.mean(y_preds == y) ## <-- SOLUTION\n",
    "\n",
    "print(\"Accuracy on training set: {}\".format(score(w, X_train_intercept, y_train)))\n",
    "print(\"Accuracy on test set: {}\".format(score(w, X_test_intercept, y_test)))"
   ]
  },
  {
   "cell_type": "markdown",
   "metadata": {
    "id": "CePz4SbER-Qb"
   },
   "source": [
    "#### Questions:\n",
    "1. What are other evaluation metrics besides the accuracy? Implement them and assess the performance of our classification algorithm with them.\n",
    "2. What makes other evaluation metrics more appropriate given our unbalanced data set _(we have more benign than malignant examples)_?\n",
    "3. Try different learning rates, regularisation strengths and number of iterations independently. What can you observe? Can you achieve higher accuracies?\n",
    "4. What is your understanding why have we used the hinge loss with this data set of 31 features?"
   ]
  },
  {
   "cell_type": "markdown",
   "metadata": {
    "id": "5mz-IlM3mHGv"
   },
   "source": [
    "<a name=\"section-4\"></a>\n",
    "\n",
    "## Section 4: Model Evaluation via *T*-fold Cross Validation\n",
    "\n",
    "Now we repeat the same procedure as above but do not only have one train-test split, but multiple in a *T*-fold cross validation method."
   ]
  },
  {
   "cell_type": "code",
   "execution_count": 27,
   "metadata": {
    "id": "3wk-Bov5K2we"
   },
   "outputs": [],
   "source": [
    "def cross_val_split(N, num_folds):\n",
    "    fold_size = N // num_folds\n",
    "    index_perm = np.random.permutation(np.arange(N))\n",
    "    folds = []\n",
    "    for k in range(num_folds):\n",
    "        folds.append(index_perm[k*fold_size:(k+1)*fold_size])\n",
    "    return folds"
   ]
  },
  {
   "cell_type": "code",
   "execution_count": 28,
   "metadata": {
    "colab": {
     "base_uri": "https://localhost:8080/"
    },
    "executionInfo": {
     "elapsed": 11,
     "status": "ok",
     "timestamp": 1706207044170,
     "user": {
      "displayName": "Li Zekai",
      "userId": "05086914790210896465"
     },
     "user_tz": 0
    },
    "id": "3rEkIneWmK-b",
    "outputId": "7767ab5b-8efe-4d3f-b7ee-c0967e441f72"
   },
   "outputs": [
    {
     "data": {
      "text/plain": [
       "[array([ 54, 134,  73, 276, 180, 215, 146,  46,  87,  48,  95, 177, 119,\n",
       "        162, 288, 326,  41,  39, 143, 269, 333, 366, 172, 286, 378, 147,\n",
       "        139, 132, 395, 300,  61, 247, 337, 244, 272, 353, 241,  45, 182,\n",
       "         74, 100, 317, 340, 257, 157,   2, 313, 176,  66, 122,  84,  63,\n",
       "        125,  24, 332, 173,  51, 373, 256, 184, 171, 107, 345, 355, 237,\n",
       "        128, 396, 344, 174, 131, 261, 285,  11, 213,  81, 117, 347, 149,\n",
       "        389]),\n",
       " array([150,  65,  67,   4, 346, 188, 113, 248, 129,  50, 271, 393, 267,\n",
       "        265,  49, 102,  57, 312,  85, 152,  59,  60, 338, 187, 358, 206,\n",
       "        280, 236, 235, 155, 254, 385,   0,  35, 252,  37, 356, 142, 328,\n",
       "        325,  79,  72, 387, 226, 103,  55, 270, 191,   1, 324,  20, 198,\n",
       "        298, 196,  76, 258, 216, 390, 224,  28, 336, 111, 316,  10, 199,\n",
       "         27,  92, 219, 348,  42, 302,  98, 175, 304, 220, 321, 296,  16,\n",
       "        195]),\n",
       " array([290,  22,  69,  12, 335, 295, 315,   3, 384, 372, 297, 207, 282,\n",
       "         94, 154, 249, 135, 242, 130,  91,  18, 391,  80, 360, 394, 370,\n",
       "          7, 189, 203, 238, 350, 197, 110, 115,  15,  53,  82, 126, 251,\n",
       "        281, 148,  36, 363,  47, 322,  26, 362, 166, 229, 351, 319, 164,\n",
       "         21, 310, 178, 369,  68, 112, 266, 133, 334, 138,  32, 151, 170,\n",
       "        275, 121, 349, 327, 291, 156, 120, 311, 183, 158, 341, 301, 101,\n",
       "        303]),\n",
       " array([  5, 160, 141, 274, 293, 305, 380, 277, 239, 263, 264, 245, 145,\n",
       "        127, 232,  29, 208,  40, 371, 106,  88, 221, 140, 210, 309,  13,\n",
       "        124,  97, 137, 287,  96, 318, 367, 185, 118, 240, 159,  71, 283,\n",
       "        233,  75, 250,  86, 204, 108,  33, 368,  25, 192, 320, 386, 218,\n",
       "         70, 259, 161, 243, 186,   6,   9, 228, 123, 292, 364,  56,  78,\n",
       "        383, 136,  58, 209, 361, 307, 153, 354, 294, 273,   8,  62, 214,\n",
       "         99]),\n",
       " array([284, 222, 225, 212,  43, 330,  89, 231, 114, 211, 379, 223, 289,\n",
       "        190, 194, 169,  19, 331, 359, 255, 179, 116, 342, 202, 357,  38,\n",
       "        352,  23, 217, 365, 230, 260, 339, 246,  93, 377,  31, 109, 278,\n",
       "        200, 314,  83, 392, 105, 205, 144, 163,  90,  17, 374, 167,  52,\n",
       "        375, 323, 181, 193, 168, 262, 227, 201,  64, 253,  14, 376,  34,\n",
       "        397, 343, 299, 165, 381, 382, 268, 388, 306, 279, 308,  77,  30,\n",
       "         44])]"
      ]
     },
     "execution_count": 28,
     "metadata": {},
     "output_type": "execute_result"
    }
   ],
   "source": [
    "# evaluate\n",
    "folds = cross_val_split(train.shape[0], 5)\n",
    "folds"
   ]
  },
  {
   "cell_type": "code",
   "execution_count": 29,
   "metadata": {
    "id": "Yjf6Xa-QmK7s"
   },
   "outputs": [],
   "source": [
    "## EDIT THIS FUNCTION\n",
    "def cross_val_evaluate(data, num_folds):\n",
    "    folds = cross_val_split(data.shape[0], num_folds)\n",
    "\n",
    "    train_scores = []\n",
    "    val_scores = []\n",
    "\n",
    "    for i in range(len(folds)):\n",
    "        print('Fold', i+1)\n",
    "\n",
    "        val_indices = folds[i]\n",
    "        # define the training set\n",
    "        train_indices = list(set(range(data.shape[0])) - set(val_indices))\n",
    "\n",
    "        X_train = data[train_indices,  :-1]  ## <-- SOLUTION\n",
    "        y_train = data[train_indices, -1]\n",
    "\n",
    "        # define the validation set\n",
    "        X_val = data[val_indices,  :-1]  ## <-- SOLUTION\n",
    "        y_val = data[val_indices, -1]  ## <-- SOLUTION\n",
    "\n",
    "        # insert 1 in every row for intercept b\n",
    "        X_train = np.hstack((X_train, np.ones((len(X_train),1)) ))\n",
    "        X_val = np.hstack((X_val, np.ones((len(X_val),1)) ))\n",
    "\n",
    "        # train the model\n",
    "        w,_,_ = sgd(X_train, y_train, max_iterations=1024, stop_criterion=0.01, learning_rate=1e-5, regul_strength=1e3)\n",
    "        print(\"Training finished.\")\n",
    "\n",
    "        # evaluate\n",
    "        train_score = score(w, X_train, y_train)\n",
    "        val_score = score(w, X_val, y_val)\n",
    "        print(\"Accuracy on training set #{}: {}\".format(i+1, train_score))\n",
    "        print(\"Accuracy on validation set #{}: {}\".format(i+1, val_score))\n",
    "\n",
    "        train_scores.append(train_score)\n",
    "        val_scores.append(val_score)\n",
    "\n",
    "    return train_scores, val_scores"
   ]
  },
  {
   "cell_type": "code",
   "execution_count": 30,
   "metadata": {
    "colab": {
     "base_uri": "https://localhost:8080/"
    },
    "executionInfo": {
     "elapsed": 30372,
     "status": "ok",
     "timestamp": 1706207074534,
     "user": {
      "displayName": "Li Zekai",
      "userId": "05086914790210896465"
     },
     "user_tz": 0
    },
    "id": "poufUfxFmK47",
    "outputId": "977850be-7ced-462f-d9f8-ccd3a5fca15f"
   },
   "outputs": [
    {
     "name": "stdout",
     "output_type": "stream",
     "text": [
      "Fold 1\n",
      "Training finished.\n",
      "Accuracy on training set #1: 1.0\n",
      "Accuracy on validation set #1: 0.9746835443037974\n",
      "Fold 2\n",
      "Training finished.\n",
      "Accuracy on training set #2: 0.9968652037617555\n",
      "Accuracy on validation set #2: 0.9746835443037974\n",
      "Fold 3\n",
      "Training finished.\n",
      "Accuracy on training set #3: 0.9968652037617555\n",
      "Accuracy on validation set #3: 0.9746835443037974\n",
      "Fold 4\n",
      "Training finished.\n",
      "Accuracy on training set #4: 0.9937304075235109\n",
      "Accuracy on validation set #4: 0.9620253164556962\n",
      "Fold 5\n",
      "Training finished.\n",
      "Accuracy on training set #5: 0.9968652037617555\n",
      "Accuracy on validation set #5: 0.9493670886075949\n"
     ]
    }
   ],
   "source": [
    "train_scores, val_scores = cross_val_evaluate(train, 5)"
   ]
  },
  {
   "cell_type": "markdown",
   "metadata": {
    "id": "0V8qyYIgmPsk"
   },
   "source": [
    "Finally, let's compute the mean accuracy."
   ]
  },
  {
   "cell_type": "code",
   "execution_count": 31,
   "metadata": {
    "colab": {
     "base_uri": "https://localhost:8080/"
    },
    "executionInfo": {
     "elapsed": 35,
     "status": "ok",
     "timestamp": 1706207074535,
     "user": {
      "displayName": "Li Zekai",
      "userId": "05086914790210896465"
     },
     "user_tz": 0
    },
    "id": "ovZTLlNRmJmC",
    "outputId": "ec3ba56e-558d-49ce-84a5-1f104667f19e"
   },
   "outputs": [
    {
     "name": "stdout",
     "output_type": "stream",
     "text": [
      "0.9968652037617556 0.9670886075949368\n"
     ]
    }
   ],
   "source": [
    "print(np.mean(train_scores), np.mean(val_scores))"
   ]
  },
  {
   "cell_type": "markdown",
   "metadata": {
    "id": "wM-uuYh8k-aa"
   },
   "source": [
    "### Subsection 4.1: Kernelised SVM"
   ]
  },
  {
   "cell_type": "markdown",
   "metadata": {
    "id": "C_ScSxbBk-aa"
   },
   "source": [
    "In the following, we implement a soft-margin kernelised SVM classifier with a non-linear kernel. Here, we use a Gaussian kernel:\n",
    "$$k(x,y|\\sigma) = e^{-\\frac{||x-y||^2}{\\sigma}}$$"
   ]
  },
  {
   "cell_type": "code",
   "execution_count": 32,
   "metadata": {
    "id": "LGgr4vsmk-aa"
   },
   "outputs": [],
   "source": [
    "# First we need a function to calculate the kernel given the data #\n",
    "def kernel_matrix(X1,X2,sigma):\n",
    "\n",
    "    n1,m1 = X1.shape\n",
    "    n2,m2 = X2.shape\n",
    "    kernel = np.zeros((n1,n2))\n",
    "\n",
    "    # Here we define a Gaussian Radial Basis Function Kernel #\n",
    "    for i in range(n1):\n",
    "        exponent = np.linalg.norm(X2 - X1[i],axis=1)**2 ## <-- SOLUTION\n",
    "        kernel[i,:] = np.exp(-exponent/sigma)\n",
    "\n",
    "    return kernel"
   ]
  },
  {
   "cell_type": "markdown",
   "metadata": {
    "id": "VTimbD48k-aa"
   },
   "source": [
    "Having defined the kernel, we use this to compute the cost below."
   ]
  },
  {
   "cell_type": "code",
   "execution_count": 33,
   "metadata": {
    "id": "ztKFVrs7k-aa"
   },
   "outputs": [],
   "source": [
    "## EDIT THIS FUNCTION\n",
    "def compute_cost_kernel(u, K, y, regul_strength=1e3,intercept=0):\n",
    "\n",
    "    # Here I define the hinge cost with the kernel trick. NB: the intercept should be kept separate #\n",
    "\n",
    "    distances = 1 - y*(K@u + intercept) ## <-- SOLUTION\n",
    "    distances[distances < 0] = 0  # equivalent to max(0, distance)\n",
    "    hinge = regul_strength * distances.mean()\n",
    "\n",
    "    # calculate cost\n",
    "    return 0.5 * np.dot(u,K@u) + hinge"
   ]
  },
  {
   "cell_type": "markdown",
   "metadata": {
    "id": "hSl4CBUhk-ab"
   },
   "source": [
    "As we have seen in the lecture notes, the kernel trick can be implemented in the primal-form problem by defining a new loss function:\n",
    "\n",
    "$$L(\\mathbf{u},b) = \\frac{1}{2}\\mathbf{u}^{\\rm{T}}\\mathbf{K} \\mathbf{u} + \\lambda \\sum_{i=1}^N  \\max \\Big\\{0, 1-y^{(i)}(\\mathbf{K}^{(i)}\\mathbf{u} + b)\\Big\\},$$\n",
    "\n",
    "where $\\mathbf{K}$ is the matrix containing the kernel functions, i.e.\n",
    " $\\mathbf{K}_{ij} = k(\\mathbf{x}^{(i)},\\mathbf{x}^{(i)})$. To perform the optimisation, we simply modify the functions introduced above. Note that we will use $X_{\\mathrm{train}}$ and $X_{\\mathrm{test}}$ without the additional vector of ones. We had previously included this vector of ones to learn the intercept term $b$, but within the new formulation, one cannot readily employ this trick. How to include the intercept in kernalised SVM was a question in CW1 2023, and this year we make it an exercise in this notebook.\n",
    "\n",
    "Following the steps above, we want to optimize the cost is by using SGD. First, we thus create a function that computes the gradients."
   ]
  },
  {
   "cell_type": "code",
   "execution_count": 34,
   "metadata": {
    "id": "yYK58ipik-ab"
   },
   "outputs": [],
   "source": [
    "## EDIT THIS FUNCTION\n",
    "def calculate_cost_gradient_kernel(u, K_batch, y_batch, regul_strength=1e3,intercept=0):\n",
    "\n",
    "    # if only one example is passed\n",
    "    if type(y_batch) == np.float64 or type(y_batch) == np.int32:\n",
    "        y_batch = np.asarray([y_batch])\n",
    "        K_batch = np.asarray([K_batch])  # gives multidimensional array\n",
    "\n",
    "    distance = 1 - (y_batch * (K_batch @ u + intercept)) ## <-- SOLUTION\n",
    "    dw = np.zeros(len(u))\n",
    "    di_intercept = 0\n",
    "\n",
    "    # define the gradient with the hinge loss #\n",
    "    for ind, d in enumerate(distance):\n",
    "        if max(0, d)==0:\n",
    "            di = K_batch@u ## <-- SOLUTION\n",
    "        else:\n",
    "            di = K_batch@u - (regul_strength * y_batch[ind] * K_batch[ind]) ## <-- SOLUTION\n",
    "            di_intercept += -regul_strength * y_batch[ind] ## <-- SOLUTION\n",
    "        dw += di\n",
    "\n",
    "    return dw/len(y_batch), di_intercept/len(y_batch)"
   ]
  },
  {
   "cell_type": "markdown",
   "metadata": {
    "id": "hQrDpVRok-ab"
   },
   "source": [
    "We can now use the functions above in SGD."
   ]
  },
  {
   "cell_type": "code",
   "execution_count": 35,
   "metadata": {
    "id": "hecmIRH7k-af"
   },
   "outputs": [],
   "source": [
    "## EDIT THIS FUNCTION\n",
    "def sgd_kernel(K, y, batch_size=32, max_iterations=4000, stop_criterion=0.001, learning_rate=1e-4, regul_strength=1e3, print_outcome=False):\n",
    "\n",
    "    # initialise zero u and intercept\n",
    "    u = np.zeros(K.shape[1])\n",
    "    intercept=0\n",
    "\n",
    "    nth = 0\n",
    "    # initialise starting cost as infinity\n",
    "    prev_cost = np.inf\n",
    "\n",
    "    # stochastic gradient descent\n",
    "    indices = np.arange(len(y))\n",
    "    for iteration in range(max_iterations):\n",
    "        # shuffle to prevent repeating update cycles\n",
    "        np.random.shuffle(indices)\n",
    "        batch_idx = indices[:batch_size]\n",
    "        K_b, y_b = K[batch_idx], y[batch_idx]\n",
    "        for ki, yi in zip(K_b, y_b):\n",
    "            ascent, ascent_intercept = calculate_cost_gradient_kernel(u, ki, yi, regul_strength, intercept) # <-- SOLUTION\n",
    "            u = u - (learning_rate * ascent)\n",
    "            intercept = intercept - (learning_rate * ascent_intercept) ## <-- SOLUTION\n",
    "\n",
    "        # convergence check on 2^n'th iteration\n",
    "        if iteration==2**nth or iteration==max_iterations-1:\n",
    "            # compute cost\n",
    "            cost = compute_cost_kernel(u, K, y, regul_strength, intercept) ## <-- SOLUTION\n",
    "            if print_outcome:\n",
    "                print(\"Iteration is: {}, Cost is: {}\".format(iteration, cost))\n",
    "            # stop criterion\n",
    "            if abs(prev_cost - cost) < stop_criterion * prev_cost: ## <-- SOLUTION\n",
    "                return u, intercept\n",
    "\n",
    "            prev_cost = cost\n",
    "            nth += 1\n",
    "\n",
    "    return u, intercept"
   ]
  },
  {
   "cell_type": "markdown",
   "metadata": {
    "id": "ZQnvsITFk-af"
   },
   "source": [
    "Finally, let's compare some differnet values of *σ*."
   ]
  },
  {
   "cell_type": "code",
   "execution_count": 36,
   "metadata": {
    "colab": {
     "base_uri": "https://localhost:8080/"
    },
    "executionInfo": {
     "elapsed": 31686,
     "status": "ok",
     "timestamp": 1706207106214,
     "user": {
      "displayName": "Li Zekai",
      "userId": "05086914790210896465"
     },
     "user_tz": 0
    },
    "id": "nmM3Fd1bk-af",
    "outputId": "3ee7ce82-cd42-4ba0-c0c7-233f832816d5"
   },
   "outputs": [
    {
     "name": "stdout",
     "output_type": "stream",
     "text": [
      "For sigma = 1\n",
      "Accuracy on training set: 1.0\n",
      "Accuracy on test set: 0.7017543859649122\n",
      "For sigma = 2\n",
      "Accuracy on training set: 1.0\n",
      "Accuracy on test set: 0.7602339181286549\n",
      "For sigma = 5\n",
      "Accuracy on training set: 1.0\n",
      "Accuracy on test set: 0.8713450292397661\n",
      "For sigma = 10\n",
      "Accuracy on training set: 1.0\n",
      "Accuracy on test set: 0.9298245614035088\n"
     ]
    }
   ],
   "source": [
    "## EDIT THIS FUNCTION\n",
    "\n",
    "for sigma in [1,2,5,10]:\n",
    "\n",
    "    print('For sigma = ' + str(sigma))\n",
    "    K_train = kernel_matrix(X_train,X_train, sigma) # note X_train doesn't have 1's attached\n",
    "\n",
    "    u,b = sgd_kernel(K_train, y_train, batch_size=128, max_iterations=2000, stop_criterion=0.001, learning_rate=1e-5, regul_strength=1e3, print_outcome=False)\n",
    "\n",
    "    def score(u, X, y, sigma, intercept):\n",
    "        ## now I define the kernel containing test and train data ##\n",
    "        K_test = kernel_matrix(X,X_train, sigma)\n",
    "\n",
    "        ## The\n",
    "        y_preds = np.sign(K_test@u + intercept) ## <-- SOLUTION\n",
    "\n",
    "        return np.mean(y_preds == y)\n",
    "\n",
    "    print(\"Accuracy on training set: {}\".format(score(u, X_train, y_train, sigma, b)))\n",
    "    print(\"Accuracy on test set: {}\".format(score(u, X_test, y_test, sigma, b)))"
   ]
  },
  {
   "cell_type": "markdown",
   "metadata": {
    "id": "lsNeAt6lk-af"
   },
   "source": [
    "#### Questions:\n",
    "1. What do you observe varying sigma?\n",
    "2. How does the Gaussian Kernel SVM compare to the linear SVM?"
   ]
  },
  {
   "cell_type": "markdown",
   "metadata": {
    "id": "ZPDh8qEuk-af"
   },
   "source": [
    "## Section 5: How to make a nice plot ..."
   ]
  },
  {
   "cell_type": "markdown",
   "metadata": {
    "id": "naDHHpA1k-af"
   },
   "source": [
    "In your coursework, we ask you to produce some plots. Here, we outline how a \"good\" plot looks. For this purpose, let's consider a specific example based on the data in this notebook. Thus, let's plot the diagnosis (malignant or benign) in a scatter plot as a function of, say, the two first features (radius_mean and texture_mean). If we just plot the data using the standard settings, we don't end up with a very good plot."
   ]
  },
  {
   "cell_type": "code",
   "execution_count": 37,
   "metadata": {
    "colab": {
     "base_uri": "https://localhost:8080/",
     "height": 430
    },
    "executionInfo": {
     "elapsed": 1155,
     "status": "ok",
     "timestamp": 1705935177905,
     "user": {
      "displayName": "Li Zekai",
      "userId": "05086914790210896465"
     },
     "user_tz": 0
    },
    "id": "k0CKVQ4Zk-af",
    "outputId": "f7237ee2-62b5-4c24-e119-889c86592f68"
   },
   "outputs": [
    {
     "data": {
      "image/png": "[encoded data removed]",
      "text/plain": [
       "<Figure size 640x480 with 1 Axes>"
      ]
     },
     "metadata": {},
     "output_type": "display_data"
    }
   ],
   "source": [
    "plt.scatter(data_2.iloc[:, 1],data_2.iloc[:, 2],c=y);"
   ]
  },
  {
   "cell_type": "markdown",
   "metadata": {
    "id": "5X-GJm89k-af"
   },
   "source": [
    "The problem is the following: As a rule of thumb, **a plot should always be able to stand alone**. In other words, it should be possible to understand the plot without reading the surrounding code or text and even (if possible) without reading the figure caption. The plot above can clearly not stand on its own. For starters, it doesn't have any legend, nor does it have labels on the axes. Likewise, we should add a title. Other types of plots might have other options to add information. For instance, if we were dealing with a contour plot, we might want to include a colour bar or add labels to the contour lines."
   ]
  },
  {
   "cell_type": "code",
   "execution_count": 38,
   "metadata": {
    "colab": {
     "base_uri": "https://localhost:8080/",
     "height": 472
    },
    "executionInfo": {
     "elapsed": 800,
     "status": "ok",
     "timestamp": 1705935184377,
     "user": {
      "displayName": "Li Zekai",
      "userId": "05086914790210896465"
     },
     "user_tz": 0
    },
    "id": "r7sR2bURk-af",
    "outputId": "021c339d-503c-451e-9631-9c906f0a7b2a"
   },
   "outputs": [
    {
     "data": {
      "image/png": "[encoded data removed]",
      "text/plain": [
       "<Figure size 640x480 with 1 Axes>"
      ]
     },
     "metadata": {},
     "output_type": "display_data"
    }
   ],
   "source": [
    "labels = [\"Malignant\", \"Benign\"]\n",
    "for i, c in enumerate(np.unique(y)):\n",
    "    plt.scatter(data_2.iloc[:, 1][y==c],data_2.iloc[:, 2][y==c],label=labels[i]);\n",
    "plt.xlabel(\"Mean Radius\");\n",
    "plt.ylabel(\"Mean Texture\");\n",
    "plt.title(\"Clustering of Diagnoses\");\n",
    "plt.legend();"
   ]
  },
  {
   "cell_type": "markdown",
   "metadata": {
    "id": "Ui_CiURsk-af"
   },
   "source": [
    "These small additions have improved the plot significantly. But it's still not optimal. First of all, it's rather small. To make it more readable, we should increase the figure size and change the font size of the different labels, titles, and ticks. Now, what is a suitable font size? As a rule of thumb, **a plot should be easy to read when you print it**. If you printed the notebook, the plot would be a bit on the small side since the text is smaller than the text in the cells; thus, if someone scrolls through your notebook, they would probably have to zoom in.\n",
    "\n",
    "Secondly, we might want to reconsider the markers. Indeed, there is an addition to the rule stated above: A plot should be easy to read when you print it **in grayscale**. The idea is that you make the plot colourblind-friendly if you ensure that your plot is grayscale convertible. Thus, use [colormaps](https://matplotlib.org/stable/tutorials/colors/colormaps.html) that have this property. The default colormap of plt.scatter is actually grayscale convertible, leading to the choice of yellow and purple markers in the first plot in this section. While the notebook changed colours when creating the second plot, it chose colours that were \"luckily\" likewise grayscale convertible. If in doubt, you can, of course, use your own colour scheme, as shown below. Another way to make the plot more readable when printed in grayscale (and hence more readable in general) is to use different markers in addition to colours that are easily distinguishable. We, therefore, also change the markers themselves below. You can use the same trick when you make other plots. If you were to make, say, a line plot, you could consider, e.g., using different line styles (\"-\",\":\",\"--\")."
   ]
  },
  {
   "cell_type": "code",
   "execution_count": 39,
   "metadata": {
    "colab": {
     "base_uri": "https://localhost:8080/",
     "height": 749
    },
    "executionInfo": {
     "elapsed": 1198,
     "status": "ok",
     "timestamp": 1705935191384,
     "user": {
      "displayName": "Li Zekai",
      "userId": "05086914790210896465"
     },
     "user_tz": 0
    },
    "id": "v49-EBgFk-ag",
    "outputId": "f3d67db9-e557-480c-e499-27f9484434c7"
   },
   "outputs": [
    {
     "data": {
      "image/png": "[encoded data removed]",
      "text/plain": [
       "<Figure size 1200x800 with 1 Axes>"
      ]
     },
     "metadata": {},
     "output_type": "display_data"
    }
   ],
   "source": [
    "fig, ax = plt.subplots(figsize=(12,8)) # We make plot larger\n",
    "\n",
    "markers = [\"^\",\"o\"] # We use distinct markers\n",
    "labels = [\"Benign\", \"Malignant\"]\n",
    "col = ['#fde724','#440154']; # We want to change back to the yellow and purple used above.\n",
    "fsize = 14 # We set fontsize\n",
    "\n",
    "for i, c in enumerate(np.unique(y)):\n",
    "    ax.scatter(data_2.iloc[:, 1][y==c],data_2.iloc[:, 2][y==c],c=col[i],marker=markers[i],label=labels[i],s=50);\n",
    "\n",
    "ax.legend(loc=\"best\",fontsize=fsize);\n",
    "plt.xlabel(\"Mean Radius\",fontsize=fsize+4);\n",
    "plt.ylabel(\"Mean Texture\",fontsize=fsize+4);\n",
    "plt.xticks(size=fsize); # We change the size of the ticks\n",
    "plt.yticks(size=fsize); # We change the size of the ticks\n",
    "plt.title(\"Clustering of Diagnoses\",fontsize=2*fsize);"
   ]
  },
  {
   "cell_type": "markdown",
   "metadata": {
    "id": "6ag87nSak-ag"
   },
   "source": [
    "The plot above is what we would consider a \"good\" plot since it fulfils both the criteria sketched above: It can stand alone, and it's easy to read. But what if we had decided to plot something different, such as the regularisation for the kernelised SVM, i.e. sigma? In that case, LaTeX commands would be useful for writing $\\sigma$ rather than \"sigma\". Indeed, we can readily do so in Python by passing a raw string (r\"\") with a LaTeX command. So, for the sake of the example, let's say that we have called the radius *R* and the texture $\\tau$."
   ]
  },
  {
   "cell_type": "code",
   "execution_count": 40,
   "metadata": {
    "colab": {
     "base_uri": "https://localhost:8080/",
     "height": 754
    },
    "executionInfo": {
     "elapsed": 1070,
     "status": "ok",
     "timestamp": 1705935206936,
     "user": {
      "displayName": "Li Zekai",
      "userId": "05086914790210896465"
     },
     "user_tz": 0
    },
    "id": "FOPzhvPOk-ag",
    "outputId": "9ca17ebf-ceaa-4e4b-81e7-3b48ae803c90"
   },
   "outputs": [
    {
     "data": {
      "image/png": "[encoded data removed]",
      "text/plain": [
       "<Figure size 1200x800 with 1 Axes>"
      ]
     },
     "metadata": {},
     "output_type": "display_data"
    }
   ],
   "source": [
    "# The plots in your report should be in colour. But just to show what we mean with grayscale convertable...\n",
    "plt.style.use('grayscale')\n",
    "\n",
    "fig, ax = plt.subplots(figsize=(12,8))\n",
    "markers = [\"^\",\"o\"]\n",
    "labels = [r\"$\\mathrm{Benign}$\", r\"$\\mathrm{Malignant}$\"] # We now use LaTeX commands\n",
    "fsize = 14 # Change fontsize\n",
    "for i, c in enumerate(np.unique(y)):\n",
    "    ax.scatter(data_2.iloc[:, 1][y==c],data_2.iloc[:, 2][y==c],marker=markers[i],label=labels[i]);\n",
    "\n",
    "ax.legend(loc=\"best\",fontsize=fsize);\n",
    "plt.xlabel(r\"$\\langle R \\rangle$\",fontsize=fsize+4);\n",
    "plt.ylabel(r\"$\\langle \\tau \\rangle$\",fontsize=fsize+4);\n",
    "plt.xticks(size=fsize);\n",
    "plt.yticks(size=fsize);\n",
    "plt.title(r\"$\\mathrm{Clustering \\,\\, of \\,\\, Diagnoses}$\",fontsize=2*fsize);"
   ]
  },
  {
   "cell_type": "code",
   "execution_count": null,
   "metadata": {},
   "outputs": [],
   "source": []
  }
 ],
 "metadata": {
  "colab": {
   "provenance": []
  },
  "kernelspec": {
   "display_name": "Python 3 (ipykernel)",
   "language": "python",
   "name": "python3"
  },
  "language_info": {
   "codemirror_mode": {
    "name": "ipython",
    "version": 3
   },
   "file_extension": ".py",
   "mimetype": "text/x-python",
   "name": "python",
   "nbconvert_exporter": "python",
   "pygments_lexer": "ipython3",
   "version": "3.11.5"
  }
 },
 "nbformat": 4,
 "nbformat_minor": 1
}
